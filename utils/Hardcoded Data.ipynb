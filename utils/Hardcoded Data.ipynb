{
 "metadata": {
  "name": ""
 },
 "nbformat": 3,
 "nbformat_minor": 0,
 "worksheets": [
  {
   "cells": [
    {
     "cell_type": "heading",
     "level": 1,
     "metadata": {},
     "source": [
      "Hardcoded Data"
     ]
    },
    {
     "cell_type": "markdown",
     "metadata": {},
     "source": [
      "This notebook creates some hardcoded data for the app demo."
     ]
    },
    {
     "cell_type": "code",
     "collapsed": false,
     "input": [
      "import os\n",
      "import csv\n",
      "import json\n",
      "from collections import defaultdict\n",
      "from operator import itemgetter\n",
      "data_folder = os.path.join(os.path.expanduser(\"~\"), \"Data\", \"PT\")"
     ],
     "language": "python",
     "metadata": {},
     "outputs": [],
     "prompt_number": 139
    },
    {
     "cell_type": "code",
     "collapsed": false,
     "input": [
      "# Get users\n",
      "users = {}\n",
      "user_keys = ['email', 'password', 'team', 'fName', 'sName']\n",
      "with open(os.path.join(data_folder, \"users.csv\")) as inf:\n",
      "    user_file = csv.reader(inf)\n",
      "    for row in user_file:\n",
      "        v = dict(zip(user_keys, row))\n",
      "        v['uid'] = len(users) + 3  # Adjust for database\n",
      "        users[v['uid']] = v"
     ],
     "language": "python",
     "metadata": {},
     "outputs": [],
     "prompt_number": 140
    },
    {
     "cell_type": "code",
     "collapsed": false,
     "input": [
      "# Get marks\n",
      "marks = defaultdict(list)\n",
      "mark_keys = ['uid', 'trid', 'datetime']\n",
      "with open(os.path.join(data_folder, \"marks.csv\")) as inf:\n",
      "    marks_file = csv.reader(inf, quoting=csv.QUOTE_ALL)\n",
      "    for row in marks_file:\n",
      "        v = dict(zip(mark_keys, row))\n",
      "        marks[int(v['uid'])].append(v)"
     ],
     "language": "python",
     "metadata": {},
     "outputs": [],
     "prompt_number": 141
    },
    {
     "cell_type": "code",
     "collapsed": false,
     "input": [
      "# Get Tree data, including species\n",
      "trees = {}\n",
      "tree_keys = ['trid', 'lat', 'long', 'spid']\n",
      "with open(os.path.join(data_folder, \"trees.csv\")) as inf:\n",
      "    tree_file = csv.reader(inf, quoting=csv.QUOTE_ALL)\n",
      "    for row in tree_file:\n",
      "        v = dict(zip(tree_keys, row))\n",
      "        trees[int(v['trid'])] = v"
     ],
     "language": "python",
     "metadata": {},
     "outputs": [],
     "prompt_number": 142
    },
    {
     "cell_type": "code",
     "collapsed": false,
     "input": [
      "# Total user marks (all users)\n",
      "len(marks), sum(map(len, marks.values())), marks.keys()"
     ],
     "language": "python",
     "metadata": {},
     "outputs": [
      {
       "metadata": {},
       "output_type": "pyout",
       "prompt_number": 143,
       "text": [
        "(40,\n",
        " 500000,\n",
        " dict_keys([3, 4, 5, 6, 7, 8, 9, 10, 11, 12, 13, 14, 15, 16, 17, 18, 19, 20, 21, 22, 23, 24, 25, 26, 27, 28, 29, 30, 31, 32, 33, 34, 35, 36, 37, 38, 39, 40, 41, 42]))"
       ]
      }
     ],
     "prompt_number": 143
    },
    {
     "cell_type": "code",
     "collapsed": false,
     "input": [
      "# Number of marks per user\n",
      "marks_per_user = {}\n",
      "for uid, user in users.items():\n",
      "    # Get the marks for this users\n",
      "    user_marks = marks[uid]\n",
      "    marks_per_user[uid] = len(user_marks)\n",
      "print(marks_per_user)"
     ],
     "language": "python",
     "metadata": {},
     "outputs": [
      {
       "output_type": "stream",
       "stream": "stdout",
       "text": [
        "{3: 12597, 4: 12683, 5: 12446, 6: 12507, 7: 12483, 8: 12726, 9: 12602, 10: 12411, 11: 12355, 12: 12349, 13: 12494, 14: 12533, 15: 12489, 16: 12491, 17: 12520, 18: 12254, 19: 12744, 20: 12522, 21: 12646, 22: 12317, 23: 12279, 24: 12390, 25: 12487, 26: 12598, 27: 12278, 28: 12485, 29: 12492, 30: 12353, 31: 12381, 32: 12494, 33: 12590, 34: 12609, 35: 12610, 36: 12559, 37: 12443, 38: 12546, 39: 12481, 40: 12620, 41: 12506, 42: 12630, 43: 0, 44: 0, 45: 0, 46: 0, 47: 0, 48: 0, 49: 0, 50: 0, 51: 0, 52: 0, 53: 0, 54: 0, 55: 0, 56: 0, 57: 0, 58: 0, 59: 0, 60: 0, 61: 0, 62: 0, 63: 0, 64: 0, 65: 0, 66: 0, 67: 0, 68: 0, 69: 0, 70: 0, 71: 0, 72: 0, 73: 0, 74: 0, 75: 0, 76: 0, 77: 0, 78: 0, 79: 0, 80: 0, 81: 0, 82: 0, 83: 0, 84: 0, 85: 0, 86: 0, 87: 0, 88: 0, 89: 0, 90: 0, 91: 0, 92: 0, 93: 0, 94: 0, 95: 0, 96: 0, 97: 0, 98: 0, 99: 0, 100: 0, 101: 0, 102: 0}\n"
       ]
      }
     ],
     "prompt_number": 114
    },
    {
     "cell_type": "code",
     "collapsed": false,
     "input": [
      "# Format: [[user_id, user_name, count], ...]\n",
      "user_mark_data = [[int(uid), users[uid]['fName'] + \" \" + users[uid]['sName'], marks_per_user[uid]] for uid in marks_per_user]\n",
      "user_mark_data = sorted(user_mark_data, key=itemgetter(2))\n",
      "with open(os.path.join(data_folder, \"marks_by_user.json\"), 'w') as outf:\n",
      "    json.dump(user_mark_data, outf)"
     ],
     "language": "python",
     "metadata": {},
     "outputs": [],
     "prompt_number": 144
    },
    {
     "cell_type": "code",
     "collapsed": false,
     "input": [
      "# Total team marks\n",
      "# Number of marks per user\n",
      "marks_per_team = defaultdict(int)\n",
      "for uid, user in users.items():\n",
      "    # Get the marks for this users\n",
      "    user_marks = marks[uid]\n",
      "    team = user['team']\n",
      "    marks_per_team[team] += len(user_marks)\n",
      "print(marks_per_team)"
     ],
     "language": "python",
     "metadata": {},
     "outputs": [
      {
       "output_type": "stream",
       "stream": "stdout",
       "text": [
        "defaultdict(<class 'int'>, {'Dalmatian': 150378, 'Dachshund': 137972, 'Basset': 49414, 'Shih-Tzu': 75063, 'Husky': 87173})\n"
       ]
      }
     ],
     "prompt_number": 145
    },
    {
     "cell_type": "code",
     "collapsed": false,
     "input": [
      "# Format: [[team_name, count], ...]\n",
      "team_mark_data = sorted(marks_per_team.items(), key=itemgetter(1))\n",
      "with open(os.path.join(data_folder, \"marks_by_team.json\"), 'w') as outf:\n",
      "    json.dump(team_mark_data, outf)"
     ],
     "language": "python",
     "metadata": {},
     "outputs": [],
     "prompt_number": 146
    },
    {
     "cell_type": "code",
     "collapsed": false,
     "input": [
      "# Species per user\n",
      "species_per_user = defaultdict(set)\n",
      "for uid, user in users.items():\n",
      "    # Get the marks for this users\n",
      "    user_marks = marks[uid]\n",
      "    for mark in user_marks:\n",
      "        trid = int(mark['trid'])\n",
      "        species = trees[trid]['spid']\n",
      "        species_per_user[uid].add(species)\n",
      "num_species_per_user = {uid: len(species_per_user[uid]) for uid in species_per_user}"
     ],
     "language": "python",
     "metadata": {},
     "outputs": [],
     "prompt_number": 147
    },
    {
     "cell_type": "code",
     "collapsed": false,
     "input": [
      "#Format: [[team_name, count],...]\n",
      "user_species_data = [[int(uid), users[uid]['fName'] + \" \" + users[uid]['sName'], num_species_per_user[uid]] for uid in num_species_per_user if uid in users]\n",
      "user_species_data = sorted(user_species_data, key=itemgetter(2))\n",
      "with open(os.path.join(data_folder, \"species_per_user.json\"), 'w') as outf:\n",
      "    json.dump(user_species_data, outf)"
     ],
     "language": "python",
     "metadata": {},
     "outputs": [],
     "prompt_number": 148
    },
    {
     "cell_type": "code",
     "collapsed": false,
     "input": [
      "1"
     ],
     "language": "python",
     "metadata": {},
     "outputs": [
      {
       "metadata": {},
       "output_type": "pyout",
       "prompt_number": 120,
       "text": [
        "1"
       ]
      }
     ],
     "prompt_number": 120
    },
    {
     "cell_type": "code",
     "collapsed": false,
     "input": [
      "# Species per team\n",
      "species_per_team = defaultdict(set)\n",
      "for uid, user in users.items():\n",
      "    # Get the marks for this users\n",
      "    user_marks = marks[uid]\n",
      "    team = user['team']\n",
      "    for mark in user_marks:\n",
      "        trid = int(mark['trid'])\n",
      "        species = int(trees[trid]['spid'])\n",
      "        #if species != 0:\n",
      "        #    print(trid, species)\n",
      "        species_per_team[team].add(species)\n",
      "num_species_per_team = {team: len(species_per_team[team]) for team in species_per_team}\n",
      "print(num_species_per_team)"
     ],
     "language": "python",
     "metadata": {},
     "outputs": [
      {
       "output_type": "stream",
       "stream": "stdout",
       "text": [
        "{'Dalmatian': 148, 'Basset': 127, 'Shih-Tzu': 136, 'Dachshund': 150, 'Husky': 144}\n"
       ]
      }
     ],
     "prompt_number": 137
    },
    {
     "cell_type": "code",
     "collapsed": false,
     "input": [
      "# Format: [[team_name, count], ...]\n",
      "team_species_data = sorted(num_species_per_team.items(), key=itemgetter(1))\n",
      "with open(os.path.join(data_folder, \"species_by_team.json\"), 'w') as outf:\n",
      "    json.dump(team_species_data, outf)"
     ],
     "language": "python",
     "metadata": {},
     "outputs": [],
     "prompt_number": 150
    },
    {
     "cell_type": "code",
     "collapsed": false,
     "input": [
      "# Top dog per tree\n",
      "marks_by_tree = defaultdict(list)\n",
      "marker_counter = defaultdict(int)\n",
      "for uid, user_marks in marks.items():\n",
      "    uid = int(uid)\n",
      "    for mark in user_marks:\n",
      "        trid = int(mark['trid'])\n",
      "        marks_by_tree[trid].append(uid)\n",
      "        marker_counter[(trid, uid)] += 1\n",
      "top_dog_tree = {}\n",
      "for trid, markers in marks_by_tree.items():\n",
      "    top_dog_tree[trid] = max(set(markers), key=markers.count)"
     ],
     "language": "python",
     "metadata": {},
     "outputs": [],
     "prompt_number": 151
    },
    {
     "cell_type": "code",
     "collapsed": false,
     "input": [
      "# Format: [[tree id, user_id, user_name, count], ...]\n",
      "top_dog_tree_data = [[int(trid), uid, users[uid]['fName'] + \" \" + users[uid]['sName'], marker_counter[(trid, uid)]] for trid, uid in top_dog_tree.items() if marker_counter[(trid, uid)] >= 3]\n",
      "top_dog_tree_data = sorted(top_dog_tree_data, key=itemgetter(3))\n",
      "with open(os.path.join(data_folder, \"top_dog_tree.json\"), 'w') as outf:\n",
      "    json.dump(top_dog_tree_data, outf)"
     ],
     "language": "python",
     "metadata": {},
     "outputs": [],
     "prompt_number": 152
    },
    {
     "cell_type": "code",
     "collapsed": false,
     "input": [
      "# Top pack per tree (i.e. top dog by team)\n",
      "marks_by_tree_team = defaultdict(list)\n",
      "marker_counter_team = defaultdict(int)\n",
      "for uid, user_marks in marks.items():\n",
      "    uid = int(uid)\n",
      "    team = users[uid]['team']\n",
      "    for mark in user_marks:\n",
      "        trid = int(mark['trid'])\n",
      "        marks_by_tree_team[trid].append(team)\n",
      "        marker_counter_team[(trid, team)] += 1\n",
      "top_dog_tree_team = {}\n",
      "for trid, markers in marks_by_tree_team.items():\n",
      "    top_dog_tree_team[trid] = max(set(markers), key=markers.count)"
     ],
     "language": "python",
     "metadata": {},
     "outputs": [],
     "prompt_number": 153
    },
    {
     "cell_type": "code",
     "collapsed": false,
     "input": [
      "# Format: [[tree id, team, count], ...]\n",
      "top_dog_tree_data = [[int(trid), team, marker_counter_team[(trid, team)]] for trid, team in top_dog_tree_team.items() if marker_counter_team[(trid, team)] >= 10]\n",
      "top_dog_tree_data = sorted(top_dog_tree_data, key=itemgetter(2))\n",
      "with open(os.path.join(data_folder, \"top_dog_tree_team.json\"), 'w') as outf:\n",
      "    json.dump(top_dog_tree_data, outf)"
     ],
     "language": "python",
     "metadata": {},
     "outputs": [],
     "prompt_number": 154
    },
    {
     "cell_type": "code",
     "collapsed": false,
     "input": [],
     "language": "python",
     "metadata": {},
     "outputs": [],
     "prompt_number": 126
    }
   ],
   "metadata": {}
  }
 ]
}