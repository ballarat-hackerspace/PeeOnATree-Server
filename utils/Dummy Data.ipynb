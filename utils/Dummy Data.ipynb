{
 "metadata": {
  "name": ""
 },
 "nbformat": 3,
 "nbformat_minor": 0,
 "worksheets": [
  {
   "cells": [
    {
     "cell_type": "heading",
     "level": 1,
     "metadata": {},
     "source": [
      "Dummy Data"
     ]
    },
    {
     "cell_type": "markdown",
     "metadata": {},
     "source": [
      "This notebook adds dummy data to the database. The data is random, but not without structure. The same people will mark the same trees regularly, the number of teams is much less than the number of users, and so on."
     ]
    },
    {
     "cell_type": "code",
     "collapsed": false,
     "input": [
      "team_names = [\"Basset\", \"Dachshund\", \"Dalmatian\", \"Husky\", \"Shih-Tzu\"]\n",
      "first_names = \"\"\"\n",
      "Noah \n",
      "Liam \n",
      "Jacob \n",
      "Mason \n",
      "William \n",
      "Ethan \n",
      "Michael \n",
      "Alexander \n",
      "Jayden \n",
      "Daniel \n",
      "Sophia \n",
      "Emma \n",
      "Olivia \n",
      "Isabella \n",
      "Ava \n",
      "Mia \n",
      "Emily \n",
      "Abigail \n",
      "Madison \n",
      "Elizabeth \n",
      "\"\"\".split()\n",
      "\n",
      "surnames = \"\"\"\n",
      "Smith \n",
      "Jones \n",
      "Williams \n",
      "Brown \n",
      "Wilson \n",
      "Taylor \n",
      "Morton \n",
      "White \n",
      "Martin \n",
      "Anderson \n",
      "\"\"\".split()\n",
      "\n",
      "email_providers = \"gmail.com microsoft.com hotmail.com yahoo.com\".split()"
     ],
     "language": "python",
     "metadata": {},
     "outputs": [],
     "prompt_number": 2
    },
    {
     "cell_type": "code",
     "collapsed": false,
     "input": [
      "from random import choice, random, randint\n",
      "\n",
      "def create_user():\n",
      "    \"\"\"Creates a random user\"\"\"\n",
      "    fName = choice(first_names)\n",
      "    sName = choice(surnames)\n",
      "    team = choice(team_names)\n",
      "    email_provider = choice(email_providers)\n",
      "    if \"hotmail\" in email_provider:\n",
      "        email = (fName + sName + \"69_fake\") + \"@\" + email_provider\n",
      "    else:\n",
      "        email = (fName + sName + \"_fake\") + \"@\" + email_provider\n",
      "    password = \"passw0rd\"\n",
      "    return {'email':email, 'password':password, 'team':team, 'fName':fName, 'sName':sName}\n",
      "\n"
     ],
     "language": "python",
     "metadata": {},
     "outputs": [],
     "prompt_number": 19
    },
    {
     "cell_type": "code",
     "collapsed": false,
     "input": [
      "for i in range(5):\n",
      "    print(create_user())\n"
     ],
     "language": "python",
     "metadata": {},
     "outputs": [
      {
       "output_type": "stream",
       "stream": "stdout",
       "text": [
        "{'password': 'passw0rd', 'team': 'Dachshund', 'email': 'MiaWilson_fake@gmail.com', 'sName': 'Wilson', 'fName': 'Mia'}\n",
        "{'password': 'passw0rd', 'team': 'Shih-Tzu', 'email': 'JacobSmith69_fake@hotmail.com', 'sName': 'Smith', 'fName': 'Jacob'}\n",
        "{'password': 'passw0rd', 'team': 'Shih-Tzu', 'email': 'JacobJones_fake@microsoft.com', 'sName': 'Jones', 'fName': 'Jacob'}\n",
        "{'password': 'passw0rd', 'team': 'Husky', 'email': 'EmmaAnderson_fake@microsoft.com', 'sName': 'Anderson', 'fName': 'Emma'}\n",
        "{'password': 'passw0rd', 'team': 'Dachshund', 'email': 'JacobTaylor_fake@microsoft.com', 'sName': 'Taylor', 'fName': 'Jacob'}\n"
       ]
      }
     ],
     "prompt_number": 10
    },
    {
     "cell_type": "code",
     "collapsed": false,
     "input": [
      "import os\n",
      "# Number of users to create\n",
      "n_users = 100\n",
      "\n",
      "import csv\n",
      "data_folder = os.path.join(os.path.expanduser(\"~\"), \"Data\", \"PT\")\n",
      "csvfile = open(os.path.join(data_folder, \"users.csv\"), 'w')\n",
      "w = csv.writer(csvfile, quoting=csv.QUOTE_ALL)\n",
      "for i in range(n_users):\n",
      "    user = create_user()\n",
      "    w.writerow([user['email'],user['password'],user['team'],user['fName'],user['sName'],])\n",
      "csvfile.close()"
     ],
     "language": "python",
     "metadata": {},
     "outputs": [],
     "prompt_number": 16
    },
    {
     "cell_type": "code",
     "collapsed": false,
     "input": [
      "# Marks!\n",
      "from datetime import datetime, timedelta\n",
      "\n",
      "uids = range(3, 103)  # Hard-coded! The IDs come from the database\n",
      "tids = range(1, 222573)  # Hard-coded! The IDs come from the database\n",
      "previous_marks = {}  # Marks generated already\n",
      "\n",
      "def create_mark():\n",
      "    uid = choice(uids)\n",
      "    if uid in previous_marks and random() < 0.8:\n",
      "        # Mark a tree already marked\n",
      "        tid = choice(previous_marks[uid])\n",
      "    else:\n",
      "        # New tree\n",
      "        tid = choice(tids)\n",
      "    # Generate a datetime\n",
      "    # Choose a random number of days to go back\n",
      "    days_to_subtract = randint(1, 31)\n",
      "    # Subtract that from today\n",
      "    t = datetime.now() - timedelta(days=days_to_subtract)\n",
      "    # Date example is: 2014-07-12 09:54:43\n",
      "    # Date format is: \n",
      "    return {'uid': uid, 'tid':tid, 'datetime': t.strftime(\"%Y-%m-%d %H:%M:%S\")}\n",
      "    "
     ],
     "language": "python",
     "metadata": {},
     "outputs": [],
     "prompt_number": 23
    },
    {
     "cell_type": "code",
     "collapsed": false,
     "input": [
      "for i in range(5):\n",
      "    print(create_mark())"
     ],
     "language": "python",
     "metadata": {},
     "outputs": [
      {
       "output_type": "stream",
       "stream": "stdout",
       "text": [
        "{'uid': 52, 'datetime': '2014-06-19 23:32:50', 'tid': 89387}\n",
        "{'uid': 95, 'datetime': '2014-07-10 23:32:50', 'tid': 6642}\n",
        "{'uid': 12, 'datetime': '2014-06-27 23:32:50', 'tid': 125380}\n",
        "{'uid': 36, 'datetime': '2014-06-13 23:32:50', 'tid': 143775}\n",
        "{'uid': 77, 'datetime': '2014-06-21 23:32:50', 'tid': 59715}\n"
       ]
      }
     ],
     "prompt_number": 24
    },
    {
     "cell_type": "code",
     "collapsed": false,
     "input": [],
     "language": "python",
     "metadata": {},
     "outputs": []
    }
   ],
   "metadata": {}
  }
 ]
}