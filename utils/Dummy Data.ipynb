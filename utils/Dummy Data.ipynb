{
 "metadata": {
  "name": ""
 },
 "nbformat": 3,
 "nbformat_minor": 0,
 "worksheets": [
  {
   "cells": [
    {
     "cell_type": "heading",
     "level": 1,
     "metadata": {},
     "source": [
      "Dummy Data"
     ]
    },
    {
     "cell_type": "markdown",
     "metadata": {},
     "source": [
      "This notebook adds dummy data to the database. The data is random, but not without structure. The same people will mark the same trees regularly, the number of teams is much less than the number of users, and so on."
     ]
    },
    {
     "cell_type": "code",
     "collapsed": false,
     "input": [
      "import os\n",
      "import csv\n",
      "from random import choice, random, randint\n",
      "data_folder = os.path.join(os.path.expanduser(\"~\"), \"Data\", \"PT\")"
     ],
     "language": "python",
     "metadata": {},
     "outputs": [],
     "prompt_number": 26
    },
    {
     "cell_type": "code",
     "collapsed": false,
     "input": [
      "team_names = [\"Basset\", \"Dachshund\", \"Dalmatian\", \"Husky\", \"Shih-Tzu\"]\n",
      "first_names = \"\"\"\n",
      "Noah \n",
      "Liam \n",
      "Jacob \n",
      "Mason \n",
      "William \n",
      "Ethan \n",
      "Michael \n",
      "Alexander \n",
      "Jayden \n",
      "Daniel \n",
      "Sophia \n",
      "Emma \n",
      "Olivia \n",
      "Isabella \n",
      "Ava \n",
      "Mia \n",
      "Emily \n",
      "Abigail \n",
      "Madison \n",
      "Elizabeth \n",
      "\"\"\".split()\n",
      "\n",
      "surnames = \"\"\"\n",
      "Smith \n",
      "Jones \n",
      "Williams \n",
      "Brown \n",
      "Wilson \n",
      "Taylor \n",
      "Morton \n",
      "White \n",
      "Martin \n",
      "Anderson \n",
      "\"\"\".split()\n",
      "\n",
      "email_providers = \"gmail.com microsoft.com hotmail.com yahoo.com\".split()"
     ],
     "language": "python",
     "metadata": {},
     "outputs": [],
     "prompt_number": 27
    },
    {
     "cell_type": "code",
     "collapsed": false,
     "input": [
      "\n",
      "\n",
      "def create_user():\n",
      "    \"\"\"Creates a random user\"\"\"\n",
      "    fName = choice(first_names)\n",
      "    sName = choice(surnames)\n",
      "    team = choice(team_names)\n",
      "    email_provider = choice(email_providers)\n",
      "    if \"hotmail\" in email_provider:\n",
      "        email = (fName + sName + \"69_fake\") + \"@\" + email_provider\n",
      "    else:\n",
      "        email = (fName + sName + \"_fake\") + \"@\" + email_provider\n",
      "    password = \"passw0rd\"\n",
      "    return {'email':email, 'password':password, 'team':team, 'fName':fName, 'sName':sName}\n",
      "\n"
     ],
     "language": "python",
     "metadata": {},
     "outputs": [],
     "prompt_number": 28
    },
    {
     "cell_type": "code",
     "collapsed": false,
     "input": [
      "for i in range(5):\n",
      "    print(create_user())\n"
     ],
     "language": "python",
     "metadata": {},
     "outputs": [
      {
       "output_type": "stream",
       "stream": "stdout",
       "text": [
        "{'sName': 'Smith', 'team': 'Shih-Tzu', 'fName': 'William', 'password': 'passw0rd', 'email': 'WilliamSmith_fake@yahoo.com'}\n",
        "{'sName': 'Martin', 'team': 'Dachshund', 'fName': 'Liam', 'password': 'passw0rd', 'email': 'LiamMartin_fake@microsoft.com'}\n",
        "{'sName': 'Taylor', 'team': 'Dalmatian', 'fName': 'Jayden', 'password': 'passw0rd', 'email': 'JaydenTaylor_fake@gmail.com'}\n",
        "{'sName': 'White', 'team': 'Dachshund', 'fName': 'Alexander', 'password': 'passw0rd', 'email': 'AlexanderWhite_fake@gmail.com'}\n",
        "{'sName': 'Wilson', 'team': 'Basset', 'fName': 'Liam', 'password': 'passw0rd', 'email': 'LiamWilson_fake@microsoft.com'}\n"
       ]
      }
     ],
     "prompt_number": 3
    },
    {
     "cell_type": "code",
     "collapsed": false,
     "input": [
      "# Number of users to create\n",
      "n_users = 100\n",
      "\n",
      "csvfile = open(os.path.join(data_folder, \"users.csv\"), 'w')\n",
      "w = csv.writer(csvfile, quoting=csv.QUOTE_ALL)\n",
      "for i in range(n_users):\n",
      "    user = create_user()\n",
      "    w.writerow([user['email'],user['password'],user['team'],user['fName'],user['sName'],])\n",
      "csvfile.close()"
     ],
     "language": "python",
     "metadata": {},
     "outputs": [],
     "prompt_number": 16
    },
    {
     "cell_type": "code",
     "collapsed": false,
     "input": [
      "# Marks!\n",
      "from datetime import datetime, timedelta\n",
      "\n",
      "uids = range(3, 43)  # Hard-coded! The IDs come from the database. Currently up to 103 can be used, but I didn't want to make that many\n",
      "tids = range(1, 56449)  #222573)  # Hard-coded! The IDs come from the database. The 56449 figure is just the ballarat ones\n",
      "previous_marks = {}  # Marks generated already\n",
      "\n",
      "def create_mark():\n",
      "    uid = choice(uids)\n",
      "    if uid in previous_marks and random() < 0.8:\n",
      "        # Mark a tree already marked\n",
      "        trid = choice(previous_marks[uid])\n",
      "    else:\n",
      "        # New tree\n",
      "        trid = choice(tids)\n",
      "    # Generate a datetime\n",
      "    # Choose a random number of days to go back\n",
      "    days_to_subtract = randint(1, 7)\n",
      "    # Subtract that from today\n",
      "    t = datetime.now() - timedelta(days=days_to_subtract)\n",
      "    # Date example is: 2014-07-12 09:54:43\n",
      "    # Date format is: \n",
      "    return {'uid': uid, 'trid':trid, 'datetime': t.strftime(\"%Y-%m-%d %H:%M:%S\")}\n",
      "    "
     ],
     "language": "python",
     "metadata": {},
     "outputs": [],
     "prompt_number": 29
    },
    {
     "cell_type": "code",
     "collapsed": false,
     "input": [
      "for i in range(5):\n",
      "    print(create_mark())"
     ],
     "language": "python",
     "metadata": {},
     "outputs": [
      {
       "output_type": "stream",
       "stream": "stdout",
       "text": [
        "{'datetime': '2014-07-08 09:34:20', 'trid': 33335, 'uid': 41}\n",
        "{'datetime': '2014-07-09 09:34:20', 'trid': 25493, 'uid': 7}\n",
        "{'datetime': '2014-07-07 09:34:20', 'trid': 26033, 'uid': 17}\n",
        "{'datetime': '2014-07-10 09:34:20', 'trid': 48509, 'uid': 15}\n",
        "{'datetime': '2014-07-10 09:34:20', 'trid': 16093, 'uid': 27}\n"
       ]
      }
     ],
     "prompt_number": 21
    },
    {
     "cell_type": "code",
     "collapsed": false,
     "input": [
      "from operator import itemgetter\n",
      "\n",
      "n_marks = 500000\n",
      "\n",
      "#marks = sorted((create_mark() for i in range(n_marks)), key=itemgetter('datetime'))\n",
      "csvfile = open(os.path.join(data_folder, \"marks.csv\"), 'w')\n",
      "w = csv.writer(csvfile, quoting=csv.QUOTE_MINIMAL)\n",
      "for i in range(n_marks):\n",
      "    mark = create_mark()\n",
      "    w.writerow([mark['uid'], mark['trid'], mark['datetime']])\n",
      "csvfile.close()\n"
     ],
     "language": "python",
     "metadata": {},
     "outputs": [],
     "prompt_number": 30
    },
    {
     "cell_type": "code",
     "collapsed": false,
     "input": [],
     "language": "python",
     "metadata": {},
     "outputs": []
    }
   ],
   "metadata": {}
  }
 ]
}